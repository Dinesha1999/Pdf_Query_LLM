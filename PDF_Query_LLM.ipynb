{
  "nbformat": 4,
  "nbformat_minor": 0,
  "metadata": {
    "colab": {
      "provenance": [],
      "authorship_tag": "ABX9TyMkCHeaAwLCIoPYZlB+6qF8",
      "include_colab_link": true
    },
    "kernelspec": {
      "name": "python3",
      "display_name": "Python 3"
    },
    "language_info": {
      "name": "python"
    }
  },
  "cells": [
    {
      "cell_type": "markdown",
      "metadata": {
        "id": "view-in-github",
        "colab_type": "text"
      },
      "source": [
        "<a href=\"https://colab.research.google.com/github/Dinesha1999/Pdf_Query_LLM/blob/main/PDF_Query_LLM.ipynb\" target=\"_parent\"><img src=\"https://colab.research.google.com/assets/colab-badge.svg\" alt=\"Open In Colab\"/></a>"
      ]
    },
    {
      "cell_type": "code",
      "execution_count": null,
      "metadata": {
        "colab": {
          "base_uri": "https://localhost:8080/"
        },
        "collapsed": true,
        "id": "Ha6CtAS6yfpF",
        "outputId": "929f0688-71f7-40e9-da4d-bef0c0764ff2"
      },
      "outputs": [
        {
          "output_type": "stream",
          "name": "stdout",
          "text": [
            "Collecting langchain\n",
            "  Downloading langchain-0.2.8-py3-none-any.whl (987 kB)\n",
            "\u001b[2K     \u001b[90m━━━━━━━━━━━━━━━━━━━━━━━━━━━━━━━━━━━━━━━━\u001b[0m \u001b[32m987.6/987.6 kB\u001b[0m \u001b[31m4.0 MB/s\u001b[0m eta \u001b[36m0:00:00\u001b[0m\n",
            "\u001b[?25hRequirement already satisfied: PyYAML>=5.3 in /usr/local/lib/python3.10/dist-packages (from langchain) (6.0.1)\n",
            "Requirement already satisfied: SQLAlchemy<3,>=1.4 in /usr/local/lib/python3.10/dist-packages (from langchain) (2.0.31)\n",
            "Requirement already satisfied: aiohttp<4.0.0,>=3.8.3 in /usr/local/lib/python3.10/dist-packages (from langchain) (3.9.5)\n",
            "Requirement already satisfied: async-timeout<5.0.0,>=4.0.0 in /usr/local/lib/python3.10/dist-packages (from langchain) (4.0.3)\n",
            "Collecting langchain-core<0.3.0,>=0.2.19 (from langchain)\n",
            "  Downloading langchain_core-0.2.20-py3-none-any.whl (371 kB)\n",
            "\u001b[2K     \u001b[90m━━━━━━━━━━━━━━━━━━━━━━━━━━━━━━━━━━━━━━━━\u001b[0m \u001b[32m371.7/371.7 kB\u001b[0m \u001b[31m1.9 MB/s\u001b[0m eta \u001b[36m0:00:00\u001b[0m\n",
            "\u001b[?25hCollecting langchain-text-splitters<0.3.0,>=0.2.0 (from langchain)\n",
            "  Downloading langchain_text_splitters-0.2.2-py3-none-any.whl (25 kB)\n",
            "Collecting langsmith<0.2.0,>=0.1.17 (from langchain)\n",
            "  Downloading langsmith-0.1.88-py3-none-any.whl (134 kB)\n",
            "\u001b[2K     \u001b[90m━━━━━━━━━━━━━━━━━━━━━━━━━━━━━━━━━━━━━━━━\u001b[0m \u001b[32m134.3/134.3 kB\u001b[0m \u001b[31m1.9 MB/s\u001b[0m eta \u001b[36m0:00:00\u001b[0m\n",
            "\u001b[?25hRequirement already satisfied: numpy<2,>=1 in /usr/local/lib/python3.10/dist-packages (from langchain) (1.25.2)\n",
            "Requirement already satisfied: pydantic<3,>=1 in /usr/local/lib/python3.10/dist-packages (from langchain) (2.8.2)\n",
            "Requirement already satisfied: requests<3,>=2 in /usr/local/lib/python3.10/dist-packages (from langchain) (2.31.0)\n",
            "Requirement already satisfied: tenacity!=8.4.0,<9.0.0,>=8.1.0 in /usr/local/lib/python3.10/dist-packages (from langchain) (8.5.0)\n",
            "Requirement already satisfied: aiosignal>=1.1.2 in /usr/local/lib/python3.10/dist-packages (from aiohttp<4.0.0,>=3.8.3->langchain) (1.3.1)\n",
            "Requirement already satisfied: attrs>=17.3.0 in /usr/local/lib/python3.10/dist-packages (from aiohttp<4.0.0,>=3.8.3->langchain) (23.2.0)\n",
            "Requirement already satisfied: frozenlist>=1.1.1 in /usr/local/lib/python3.10/dist-packages (from aiohttp<4.0.0,>=3.8.3->langchain) (1.4.1)\n",
            "Requirement already satisfied: multidict<7.0,>=4.5 in /usr/local/lib/python3.10/dist-packages (from aiohttp<4.0.0,>=3.8.3->langchain) (6.0.5)\n",
            "Requirement already satisfied: yarl<2.0,>=1.0 in /usr/local/lib/python3.10/dist-packages (from aiohttp<4.0.0,>=3.8.3->langchain) (1.9.4)\n",
            "Collecting jsonpatch<2.0,>=1.33 (from langchain-core<0.3.0,>=0.2.19->langchain)\n",
            "  Downloading jsonpatch-1.33-py2.py3-none-any.whl (12 kB)\n",
            "Requirement already satisfied: packaging<25,>=23.2 in /usr/local/lib/python3.10/dist-packages (from langchain-core<0.3.0,>=0.2.19->langchain) (24.1)\n",
            "Collecting orjson<4.0.0,>=3.9.14 (from langsmith<0.2.0,>=0.1.17->langchain)\n",
            "  Downloading orjson-3.10.6-cp310-cp310-manylinux_2_17_x86_64.manylinux2014_x86_64.whl (141 kB)\n",
            "\u001b[2K     \u001b[90m━━━━━━━━━━━━━━━━━━━━━━━━━━━━━━━━━━━━━━━━\u001b[0m \u001b[32m141.1/141.1 kB\u001b[0m \u001b[31m2.8 MB/s\u001b[0m eta \u001b[36m0:00:00\u001b[0m\n",
            "\u001b[?25hRequirement already satisfied: annotated-types>=0.4.0 in /usr/local/lib/python3.10/dist-packages (from pydantic<3,>=1->langchain) (0.7.0)\n",
            "Requirement already satisfied: pydantic-core==2.20.1 in /usr/local/lib/python3.10/dist-packages (from pydantic<3,>=1->langchain) (2.20.1)\n",
            "Requirement already satisfied: typing-extensions>=4.6.1 in /usr/local/lib/python3.10/dist-packages (from pydantic<3,>=1->langchain) (4.12.2)\n",
            "Requirement already satisfied: charset-normalizer<4,>=2 in /usr/local/lib/python3.10/dist-packages (from requests<3,>=2->langchain) (3.3.2)\n",
            "Requirement already satisfied: idna<4,>=2.5 in /usr/local/lib/python3.10/dist-packages (from requests<3,>=2->langchain) (3.7)\n",
            "Requirement already satisfied: urllib3<3,>=1.21.1 in /usr/local/lib/python3.10/dist-packages (from requests<3,>=2->langchain) (2.0.7)\n",
            "Requirement already satisfied: certifi>=2017.4.17 in /usr/local/lib/python3.10/dist-packages (from requests<3,>=2->langchain) (2024.7.4)\n",
            "Requirement already satisfied: greenlet!=0.4.17 in /usr/local/lib/python3.10/dist-packages (from SQLAlchemy<3,>=1.4->langchain) (3.0.3)\n",
            "Collecting jsonpointer>=1.9 (from jsonpatch<2.0,>=1.33->langchain-core<0.3.0,>=0.2.19->langchain)\n",
            "  Downloading jsonpointer-3.0.0-py2.py3-none-any.whl (7.6 kB)\n",
            "Installing collected packages: orjson, jsonpointer, jsonpatch, langsmith, langchain-core, langchain-text-splitters, langchain\n",
            "Successfully installed jsonpatch-1.33 jsonpointer-3.0.0 langchain-0.2.8 langchain-core-0.2.20 langchain-text-splitters-0.2.2 langsmith-0.1.88 orjson-3.10.6\n",
            "Collecting openai\n",
            "  Downloading openai-1.35.14-py3-none-any.whl (328 kB)\n",
            "\u001b[2K     \u001b[90m━━━━━━━━━━━━━━━━━━━━━━━━━━━━━━━━━━━━━━━━\u001b[0m \u001b[32m328.5/328.5 kB\u001b[0m \u001b[31m2.4 MB/s\u001b[0m eta \u001b[36m0:00:00\u001b[0m\n",
            "\u001b[?25hRequirement already satisfied: anyio<5,>=3.5.0 in /usr/local/lib/python3.10/dist-packages (from openai) (3.7.1)\n",
            "Requirement already satisfied: distro<2,>=1.7.0 in /usr/lib/python3/dist-packages (from openai) (1.7.0)\n",
            "Collecting httpx<1,>=0.23.0 (from openai)\n",
            "  Downloading httpx-0.27.0-py3-none-any.whl (75 kB)\n",
            "\u001b[2K     \u001b[90m━━━━━━━━━━━━━━━━━━━━━━━━━━━━━━━━━━━━━━━━\u001b[0m \u001b[32m75.6/75.6 kB\u001b[0m \u001b[31m6.6 MB/s\u001b[0m eta \u001b[36m0:00:00\u001b[0m\n",
            "\u001b[?25hRequirement already satisfied: pydantic<3,>=1.9.0 in /usr/local/lib/python3.10/dist-packages (from openai) (2.8.2)\n",
            "Requirement already satisfied: sniffio in /usr/local/lib/python3.10/dist-packages (from openai) (1.3.1)\n",
            "Requirement already satisfied: tqdm>4 in /usr/local/lib/python3.10/dist-packages (from openai) (4.66.4)\n",
            "Requirement already satisfied: typing-extensions<5,>=4.7 in /usr/local/lib/python3.10/dist-packages (from openai) (4.12.2)\n",
            "Requirement already satisfied: idna>=2.8 in /usr/local/lib/python3.10/dist-packages (from anyio<5,>=3.5.0->openai) (3.7)\n",
            "Requirement already satisfied: exceptiongroup in /usr/local/lib/python3.10/dist-packages (from anyio<5,>=3.5.0->openai) (1.2.1)\n",
            "Requirement already satisfied: certifi in /usr/local/lib/python3.10/dist-packages (from httpx<1,>=0.23.0->openai) (2024.7.4)\n",
            "Collecting httpcore==1.* (from httpx<1,>=0.23.0->openai)\n",
            "  Downloading httpcore-1.0.5-py3-none-any.whl (77 kB)\n",
            "\u001b[2K     \u001b[90m━━━━━━━━━━━━━━━━━━━━━━━━━━━━━━━━━━━━━━━━\u001b[0m \u001b[32m77.9/77.9 kB\u001b[0m \u001b[31m7.7 MB/s\u001b[0m eta \u001b[36m0:00:00\u001b[0m\n",
            "\u001b[?25hCollecting h11<0.15,>=0.13 (from httpcore==1.*->httpx<1,>=0.23.0->openai)\n",
            "  Downloading h11-0.14.0-py3-none-any.whl (58 kB)\n",
            "\u001b[2K     \u001b[90m━━━━━━━━━━━━━━━━━━━━━━━━━━━━━━━━━━━━━━━━\u001b[0m \u001b[32m58.3/58.3 kB\u001b[0m \u001b[31m6.8 MB/s\u001b[0m eta \u001b[36m0:00:00\u001b[0m\n",
            "\u001b[?25hRequirement already satisfied: annotated-types>=0.4.0 in /usr/local/lib/python3.10/dist-packages (from pydantic<3,>=1.9.0->openai) (0.7.0)\n",
            "Requirement already satisfied: pydantic-core==2.20.1 in /usr/local/lib/python3.10/dist-packages (from pydantic<3,>=1.9.0->openai) (2.20.1)\n",
            "Installing collected packages: h11, httpcore, httpx, openai\n",
            "Successfully installed h11-0.14.0 httpcore-1.0.5 httpx-0.27.0 openai-1.35.14\n",
            "Collecting PyPDF2\n",
            "  Downloading pypdf2-3.0.1-py3-none-any.whl (232 kB)\n",
            "\u001b[2K     \u001b[90m━━━━━━━━━━━━━━━━━━━━━━━━━━━━━━━━━━━━━━━━\u001b[0m \u001b[32m232.6/232.6 kB\u001b[0m \u001b[31m2.0 MB/s\u001b[0m eta \u001b[36m0:00:00\u001b[0m\n",
            "\u001b[?25hInstalling collected packages: PyPDF2\n",
            "Successfully installed PyPDF2-3.0.1\n",
            "Collecting faiss-cpu\n",
            "  Downloading faiss_cpu-1.8.0.post1-cp310-cp310-manylinux_2_17_x86_64.manylinux2014_x86_64.whl (27.0 MB)\n",
            "\u001b[2K     \u001b[90m━━━━━━━━━━━━━━━━━━━━━━━━━━━━━━━━━━━━━━━━\u001b[0m \u001b[32m27.0/27.0 MB\u001b[0m \u001b[31m24.4 MB/s\u001b[0m eta \u001b[36m0:00:00\u001b[0m\n",
            "\u001b[?25hRequirement already satisfied: numpy<2.0,>=1.0 in /usr/local/lib/python3.10/dist-packages (from faiss-cpu) (1.25.2)\n",
            "Requirement already satisfied: packaging in /usr/local/lib/python3.10/dist-packages (from faiss-cpu) (24.1)\n",
            "Installing collected packages: faiss-cpu\n",
            "Successfully installed faiss-cpu-1.8.0.post1\n",
            "Collecting langchain-community\n",
            "  Downloading langchain_community-0.2.7-py3-none-any.whl (2.2 MB)\n",
            "\u001b[2K     \u001b[90m━━━━━━━━━━━━━━━━━━━━━━━━━━━━━━━━━━━━━━━━\u001b[0m \u001b[32m2.2/2.2 MB\u001b[0m \u001b[31m8.6 MB/s\u001b[0m eta \u001b[36m0:00:00\u001b[0m\n",
            "\u001b[?25hRequirement already satisfied: PyYAML>=5.3 in /usr/local/lib/python3.10/dist-packages (from langchain-community) (6.0.1)\n",
            "Requirement already satisfied: SQLAlchemy<3,>=1.4 in /usr/local/lib/python3.10/dist-packages (from langchain-community) (2.0.31)\n",
            "Requirement already satisfied: aiohttp<4.0.0,>=3.8.3 in /usr/local/lib/python3.10/dist-packages (from langchain-community) (3.9.5)\n",
            "Collecting dataclasses-json<0.7,>=0.5.7 (from langchain-community)\n",
            "  Downloading dataclasses_json-0.6.7-py3-none-any.whl (28 kB)\n",
            "Requirement already satisfied: langchain<0.3.0,>=0.2.7 in /usr/local/lib/python3.10/dist-packages (from langchain-community) (0.2.8)\n",
            "Requirement already satisfied: langchain-core<0.3.0,>=0.2.12 in /usr/local/lib/python3.10/dist-packages (from langchain-community) (0.2.20)\n",
            "Requirement already satisfied: langsmith<0.2.0,>=0.1.0 in /usr/local/lib/python3.10/dist-packages (from langchain-community) (0.1.88)\n",
            "Requirement already satisfied: numpy<2,>=1 in /usr/local/lib/python3.10/dist-packages (from langchain-community) (1.25.2)\n",
            "Requirement already satisfied: requests<3,>=2 in /usr/local/lib/python3.10/dist-packages (from langchain-community) (2.31.0)\n",
            "Requirement already satisfied: tenacity!=8.4.0,<9.0.0,>=8.1.0 in /usr/local/lib/python3.10/dist-packages (from langchain-community) (8.5.0)\n",
            "Requirement already satisfied: aiosignal>=1.1.2 in /usr/local/lib/python3.10/dist-packages (from aiohttp<4.0.0,>=3.8.3->langchain-community) (1.3.1)\n",
            "Requirement already satisfied: attrs>=17.3.0 in /usr/local/lib/python3.10/dist-packages (from aiohttp<4.0.0,>=3.8.3->langchain-community) (23.2.0)\n",
            "Requirement already satisfied: frozenlist>=1.1.1 in /usr/local/lib/python3.10/dist-packages (from aiohttp<4.0.0,>=3.8.3->langchain-community) (1.4.1)\n",
            "Requirement already satisfied: multidict<7.0,>=4.5 in /usr/local/lib/python3.10/dist-packages (from aiohttp<4.0.0,>=3.8.3->langchain-community) (6.0.5)\n",
            "Requirement already satisfied: yarl<2.0,>=1.0 in /usr/local/lib/python3.10/dist-packages (from aiohttp<4.0.0,>=3.8.3->langchain-community) (1.9.4)\n",
            "Requirement already satisfied: async-timeout<5.0,>=4.0 in /usr/local/lib/python3.10/dist-packages (from aiohttp<4.0.0,>=3.8.3->langchain-community) (4.0.3)\n",
            "Collecting marshmallow<4.0.0,>=3.18.0 (from dataclasses-json<0.7,>=0.5.7->langchain-community)\n",
            "  Downloading marshmallow-3.21.3-py3-none-any.whl (49 kB)\n",
            "\u001b[2K     \u001b[90m━━━━━━━━━━━━━━━━━━━━━━━━━━━━━━━━━━━━━━━━\u001b[0m \u001b[32m49.2/49.2 kB\u001b[0m \u001b[31m4.6 MB/s\u001b[0m eta \u001b[36m0:00:00\u001b[0m\n",
            "\u001b[?25hCollecting typing-inspect<1,>=0.4.0 (from dataclasses-json<0.7,>=0.5.7->langchain-community)\n",
            "  Downloading typing_inspect-0.9.0-py3-none-any.whl (8.8 kB)\n",
            "Requirement already satisfied: langchain-text-splitters<0.3.0,>=0.2.0 in /usr/local/lib/python3.10/dist-packages (from langchain<0.3.0,>=0.2.7->langchain-community) (0.2.2)\n",
            "Requirement already satisfied: pydantic<3,>=1 in /usr/local/lib/python3.10/dist-packages (from langchain<0.3.0,>=0.2.7->langchain-community) (2.8.2)\n",
            "Requirement already satisfied: jsonpatch<2.0,>=1.33 in /usr/local/lib/python3.10/dist-packages (from langchain-core<0.3.0,>=0.2.12->langchain-community) (1.33)\n",
            "Requirement already satisfied: packaging<25,>=23.2 in /usr/local/lib/python3.10/dist-packages (from langchain-core<0.3.0,>=0.2.12->langchain-community) (24.1)\n",
            "Requirement already satisfied: orjson<4.0.0,>=3.9.14 in /usr/local/lib/python3.10/dist-packages (from langsmith<0.2.0,>=0.1.0->langchain-community) (3.10.6)\n",
            "Requirement already satisfied: charset-normalizer<4,>=2 in /usr/local/lib/python3.10/dist-packages (from requests<3,>=2->langchain-community) (3.3.2)\n",
            "Requirement already satisfied: idna<4,>=2.5 in /usr/local/lib/python3.10/dist-packages (from requests<3,>=2->langchain-community) (3.7)\n",
            "Requirement already satisfied: urllib3<3,>=1.21.1 in /usr/local/lib/python3.10/dist-packages (from requests<3,>=2->langchain-community) (2.0.7)\n",
            "Requirement already satisfied: certifi>=2017.4.17 in /usr/local/lib/python3.10/dist-packages (from requests<3,>=2->langchain-community) (2024.7.4)\n",
            "Requirement already satisfied: typing-extensions>=4.6.0 in /usr/local/lib/python3.10/dist-packages (from SQLAlchemy<3,>=1.4->langchain-community) (4.12.2)\n",
            "Requirement already satisfied: greenlet!=0.4.17 in /usr/local/lib/python3.10/dist-packages (from SQLAlchemy<3,>=1.4->langchain-community) (3.0.3)\n",
            "Requirement already satisfied: jsonpointer>=1.9 in /usr/local/lib/python3.10/dist-packages (from jsonpatch<2.0,>=1.33->langchain-core<0.3.0,>=0.2.12->langchain-community) (3.0.0)\n",
            "Requirement already satisfied: annotated-types>=0.4.0 in /usr/local/lib/python3.10/dist-packages (from pydantic<3,>=1->langchain<0.3.0,>=0.2.7->langchain-community) (0.7.0)\n",
            "Requirement already satisfied: pydantic-core==2.20.1 in /usr/local/lib/python3.10/dist-packages (from pydantic<3,>=1->langchain<0.3.0,>=0.2.7->langchain-community) (2.20.1)\n",
            "Collecting mypy-extensions>=0.3.0 (from typing-inspect<1,>=0.4.0->dataclasses-json<0.7,>=0.5.7->langchain-community)\n",
            "  Downloading mypy_extensions-1.0.0-py3-none-any.whl (4.7 kB)\n",
            "Installing collected packages: mypy-extensions, marshmallow, typing-inspect, dataclasses-json, langchain-community\n",
            "Successfully installed dataclasses-json-0.6.7 langchain-community-0.2.7 marshmallow-3.21.3 mypy-extensions-1.0.0 typing-inspect-0.9.0\n"
          ]
        }
      ],
      "source": [
        "!pip install langchain\n",
        "!pip install openai\n",
        "!pip install PyPDF2\n",
        "!pip install faiss-cpu\n",
        "!pip install -U langchain-community"
      ]
    },
    {
      "cell_type": "code",
      "source": [
        "from PyPDF2 import PdfReader\n",
        "from langchain.embeddings.openai import OpenAIEmbeddings\n",
        "from langchain.text_splitter import CharacterTextSplitter\n",
        "from langchain.vectorstores import ElasticVectorSearch, Pinecone ,Weaviate ,FAISS"
      ],
      "metadata": {
        "id": "0yLYR9GlzrbK"
      },
      "execution_count": null,
      "outputs": []
    },
    {
      "cell_type": "code",
      "source": [
        "#getting my API key from openai\n",
        "import os\n",
        "from google.colab import userdata\n",
        "os.environ[\"OPENAI_API_KEY\"] = userdata.get('OPENAI_API_KEY')"
      ],
      "metadata": {
        "id": "8_ZAZQGJ0Wjo"
      },
      "execution_count": null,
      "outputs": []
    },
    {
      "cell_type": "code",
      "source": [
        "#connect my google drive\n",
        "from google.colab import drive\n",
        "drive.mount('/content/gdrive',force_remount=True)\n",
        "root_dir =\"content/gdrive/My Drive/\""
      ],
      "metadata": {
        "colab": {
          "base_uri": "https://localhost:8080/"
        },
        "id": "2D7x3vb2-WMT",
        "outputId": "da2fa1a8-a868-442c-d053-e53528686ad4"
      },
      "execution_count": null,
      "outputs": [
        {
          "output_type": "stream",
          "name": "stdout",
          "text": [
            "Mounted at /content/gdrive\n"
          ]
        }
      ]
    },
    {
      "cell_type": "code",
      "source": [
        "#location of the pdf file(read the file from putting the pathway of the folder )\n",
        "reader = PdfReader(\"/content/gdrive/My Drive/PDF/Kanneliya_forest.pdf\")"
      ],
      "metadata": {
        "id": "6HAap8DQAKRe"
      },
      "execution_count": null,
      "outputs": []
    },
    {
      "cell_type": "code",
      "source": [
        "reader"
      ],
      "metadata": {
        "colab": {
          "base_uri": "https://localhost:8080/"
        },
        "id": "kfJgSXRu87x3",
        "outputId": "56be0d69-56c8-41d6-f935-f2977474f597"
      },
      "execution_count": null,
      "outputs": [
        {
          "output_type": "execute_result",
          "data": {
            "text/plain": [
              "<PyPDF2._reader.PdfReader at 0x7829864df340>"
            ]
          },
          "metadata": {},
          "execution_count": 44
        }
      ]
    },
    {
      "cell_type": "code",
      "source": [
        "#read data from the file and put them into a variable called raw_text(go to content of each page and read the text from each pages and simply return into the raw text )\n",
        "raw_text = \"\"\n",
        "for i,page in enumerate(reader.pages):\n",
        "  text = page.extract_text()\n",
        "  if text:\n",
        "    raw_text += text\n"
      ],
      "metadata": {
        "id": "Q094oBjJBSH3"
      },
      "execution_count": null,
      "outputs": []
    },
    {
      "cell_type": "code",
      "source": [
        "raw_text"
      ],
      "metadata": {
        "colab": {
          "base_uri": "https://localhost:8080/",
          "height": 140
        },
        "collapsed": true,
        "id": "ceRYhlbnkdmb",
        "outputId": "8b6a27f3-c5d8-4bf8-d162-ff7fb12a51ae"
      },
      "execution_count": null,
      "outputs": [
        {
          "output_type": "execute_result",
          "data": {
            "text/plain": [
              "'See discussions, st ats, and author pr ofiles f or this public ation at : https://www .researchgate.ne t/public ation/377415031\\nCommu nity Perception of Ecotou rism in Kanneliya Rainforest Area\\nConf erence Paper  · Januar y 2024\\nCITATION\\n1READS\\n149\\n1 author:\\nPathir age Kasun Udar a Perera\\nUva Wellassa Univ ersity\\n15 PUBLICA TIONS \\xa0\\xa0\\xa04 CITATIONS \\xa0\\xa0\\xa0\\nSEE PROFILE\\nAll c ontent f ollo wing this p age was uplo aded b y Pathir age Kasun Udar a Perera on 16 Januar y 2024.\\nThe user has r equest ed enhanc ement of the do wnlo aded file.291 \\n  \\n* Corresponding author:  udarakasun864@gmail.com  \\n  \\nCommunity Perception of  \\nEcotourism in Kanneliya Rainforest Area  \\n \\nPerera  P. K. U .* \\n \\n*Department of Tourism and Hospitality Management, Rajarata University of Sri \\nLanka  \\n \\n \\n \\nA B S T R A C T  \\n \\nEcotourism is “Responsible travel to natural areas that conserve the environment, \\nsustain the wellbeing of the local people and involves the interpretation and \\neducation”. It is a well constituted and remunerative concept for numerous regional \\ndevelopment strategies. In Sri Lankan context it is very famous among tourists and \\ntourism business as a result of rich ecosystems throughout the country. Although eco-\\ntourism popular within the context, that have been argued a lot from the perspectives \\nby communities , residents and tourist.   The relationship among perception of eco -\\ntourism, interpretation needs and satisfaction from the perspective of visitors and \\nhosts are remained unclear. Accordingly, the current study aimed at eco -tourism \\nvisitors and host commun ity of the Kanneliya rainforest area to investigative their \\neco-tourism perception, expectation and barriers to the developing ecotourism in the \\narea.  Qualitative methodology and inductive research approach to investigate the \\nlocal community perception of ecotourism practices in Kanneliya Rainforest Area. \\nBecause they are highly subjective in nature within an interpretative paradigm. \\nHence, semi structured interviewing is deemed as a relevant research technique for \\ndata collection. Except those methods seco ndary data are also use such as publications \\ndone by local and international researchers regarding ecotourism, ecotourism \\nperception and the related topics.  By using above methods find there is great potential \\nto develop ecotourism the main objective of t his study is identifying the perception \\nand expectations of local communities on ecotourism in Kanneliya rainforest area and \\nrecognize possible solutions to resolve the challenges and to maximize the existing \\nopportunities of ecotourism development in the area.  \\n \\nKeywords: Community perception on tourism , Eco tourism , Expectation of the \\ncommunity on tourism  \\n11th ICME at University of Ruhuna, Sri Lanka.  \\nISBN:  978-624 -5553 -28-0  292 \\n 1. Introduction  \\nIn the past two decades tourism industry has reach rapid growth due to the technological \\ndevelopment, incensement of personal wealth and having free time such as paid vacations for \\npeople.  Ecotourism is one of the rapidly develop ing form of tourism that concern with \\nenvironmental protection, wildlife conservation, poverty alleviation and economic \\ndevelopment.  Ecotourism is defined as the “Responsible travel to natural areas that conserve \\nthe environment, sustain the wellbeing of the local people and involves the interpretation and \\neducation”. (TIES, 2015). For become exact ecotourism without just use as marketing tool it \\nshould engage with the nature base areas and it should minimize the negative impact. \\nFurthermore, ecotourism should  ensure the protection of nature areas and the benefit that earn \\nby the ecotourism should be fairly distribute among the host community. At present \\necotourism has mislead by some people. Just walk in forest or nature area is not the \\necotourism. That activi ty should be betterment to host and environment in that area. Because \\nmany types of tourism misunderstand as ecotourism. Such as nature base travel, green travel, \\nsustainable tourism like that. Further, as earlier mention Ecotourism is best instrument for \\nenvironmental conservation and community development in rural areas and its effectiveness \\ndetermine by the possibilities of to provide local economic benefits by wielding ecological \\nresource integrity through low -impact and non -consumptive use of local res ources.  According \\nto the SLTDA Annual report, 84.83% of the tourists are come to Sri Lanka for pleasure. Most \\nof the eco travelers are include to this category. They are travel to experience the environment \\nand same time experience the rural community, cul ture and their settings in sustainable \\nmanner. According to McMinn,  “Ecotourism has the potential to seriously impact local \\ncommunities, largely due to the tendency of eco tourists to have a greater interest in the culture \\nand nature of the areas they visi t, as compared to mass tourists.  \\n \\nAlthough many literature and professionals are state the actual eco -tourism concept \\nshould be similar to the above statements, there is question and gap between reality and the \\ntheories. Especially in the targeted Kanneli ya rainforest area attracted by many  travelers both \\nlocal and foreign. In 2018 there are 62472 of local tourists and 2037 foreign tourists are visit \\nto the Kanneliya.  \\n \\nAccording to SLTDA, visitor participation is increase with compare to the previous year.  \\nBird watching, hiking, waterfall watching and natural bath are some of the popular activities \\namong them. Apart for that tourist can enjoy village foods, arts and craft also. When tourists \\nare entering to the forest, Forest Department Officers inform them  of the Reserve’s rules and \\nregulations. However, some of the tourist are not obey for this practices. “While visitors are \\ngranted access to the Reserve at a nominal fee, Forest Department Officers also inform them \\nof the Reserve’s rules and regulations. N o polythene, no alcohol, no straying from the path and \\nabsolutely no entering the Reserve without a guide, are just some of the few rules. Obeyed by \\nnature lovers and flouted by many other visitors, the rules are set in place, not only to protect \\nthe Reser ve but the visitors as well, according to the officers”  (Maneshka, 2019) . Other than \\nthat many visitors have rude behaviors, especially many local tourists are act as nuisance to the \\nenvironment, other tourists and villagers. “ According to them, there have been many a \\nsituation where drunken visitors have caused issues, with many visitors not understanding that \\nthis is a protected nature Reserve despite all the advice given and notices displayed.”  \\n(Maneshka, 2019) . For some of this casus relevant authorities do not take relevant actions as \\nwell. “ Director, ECT, Sajeeva Chamikara told Sandesaya that people living in the borders of \\nthe forest reserve continue to clear lands for tea cultivations causing a major destruction to it . 293 \\n He accuses authorities for not taking preventive action to safeguard the Kanneliya forest \\nreserve which is a rich biodiversity hotspot in Sri Lanka.” (Daily FT , 2011) . \\n \\n1.1. Research p roblem  \\nAccording to the pilot survey conducted by the researcher to examine the perception about \\neco-tourism in Kanneliya rainforest area to examine the perception about eco -tourism in \\nKanneliya rainforest area to test the validity and reliability of the research  the followings were \\nidentified; Most of the community  are satisfied with the ecotourism practices in  Kanneliya \\narea.; Many residents  mention ed that there are some key points to be consider in further \\ndevelopment of the  tourism practices in the area. ; the conservation center and the sanitary \\nfacilities must be developed and maintained well .; parking facilities and traffic management \\npract ices must be further developed. ; the accommodation center run by the conservation \\ncenter must be further  developed and ma intained well. ; Conditions for the \\ntelecommunication facilities must be deve loped. ; staff of the conservation center and the \\nguides must be trained. Accordingly many key facts have been identified in the ecotourism \\nrelated practices in the Kanneliya area.  \\n \\nIn add ition to that many times the locals  are educated about the value of environmental, \\nsocial and cultural aspects without right standards  in using them for the tourism related \\nactivities . In Sri Lanka rural poverty and environmental depletion is consecutively increase. \\nMainly at present this rainforest depletion become major environmental problem as a result of \\nthe ways of devastating forest utilization by the community near to the forest . As above \\nmention, according to researchers pilot survey, some articles and other literatures there is a \\ngap actual ecotourism concept with the existing tourism practices in Kanneliya area. By doing \\nthis research try to understand about existing condition  of ecotourism, host and guest \\nperception about ecotourism and problems & barriers for ecotourism in this area.  \\n \\n2. Literature r eview  \\n2.1. Definition of ecotourism  \\nIt can be concluded that ecotourism is tourism that is inspired by the environmental history of \\nan area, including indigenous culture. In conclusion, based on the reading and observations \\nresearcher, it can be explained that ecotourism is based on the envi ronment that emphasizes \\nsustainability entities. (Muhammad, et al. , 2021)  \\n2.2. Community and e cotourism  \\nWhen talking about ecotourism, community cannot differentiate by itself. Because ecotourism \\nand community is closely intertwined each other topics. Gene rally, community can identify as \\na group of people living or working in a certain country or region with some similar cultural or \\ncommon in terests. According to Scherl &  Edwards (2007), community is “ groups of people \\nwith a common identity and who may be involved in an array of related aspects of livelihoods. \\nThey further note that local communities often have customary rights related to the area and \\nits natural resources and a strong relationship with  the area culturally, socially, economically \\nand spiritually (Scherl & Edwaerds, 2007) ”. However, with the current day -to-day activities \\nand livelihood habits of people, they make a huge impact on natural environment. In some \\ncases those activities harm to the environment consciously or unconsciously. “Community \\nlivelihood activities often contribute to the degradation of the very natural systems they depend \\non. Most forms of human production and consumption have the potential to  degrade natural \\nsystems. Activities such as over -grazing, conversion of forest and wetlands to agriculture, and \\nunsustainable wildlife utilization all directly degrade and deplete natural systems directly”  294 \\n (Emerton, 1999) . As a result of continuing these activities, it will diminish the livelihoods of \\nthe people involved. By today ecotourism practices are widely used as a cure for this type of \\ndifficulties. Since it is an excellence remedy for deforestation, conservation and li velihood \\nproblems and many other problems. “Ecotourism is a form of nature -based tourism, it should \\nbe careful of the environment and had close connection with local communities to conserve \\nnature and thereby contribute to the sustainability of tourism rel iant on natural environment”  \\n(Drumm & Moore, 2002) . And also according TIES, “Ecotourism is an effective vehicle for \\nempowering local communities around the world to fight against poverty and to achieve \\nsustainable development” (Deshani, et al., 2015) .  Apart from these factors, community is one \\nof the most important stakeholder in tourism and its development. Since they have grate ability \\nfor influence upon decision making and planning. “. Local comm unities play an important role \\nin tourism development. They are regarded as legitimate and moral stakeholders in tourism \\ndevelopment. Local community has to be involved in policy and decision making so that it will \\nenhance the trust and confidence of the l ocal people on the tourism industry” (Nagarjuna, \\n2015)   \\n \\nWhen considerate the perception, It is the “process by which individuals give meaning \\nto the given environment by organizing and interpreting their sensory impressions.”  (Robbins \\n& Coulter, 2005)  In the case of developing tourism related activities in certain place while \\nobtaining expected benefits, all the stakeholders should have sound understand about the \\noverall image of tourism. As well as there should have sound collaboration midst each other. \\n“Ideally, the development of ecotourism brings together local communities, tourists, suppliers, \\nand managers to promote conservation of natural areas and economic growth in impoverished \\ncommunities”  (Ross & Wall, 1999) . Along with, “Tourism industry does not have a single entity \\nbut it is the combination of different sectors including primary suppliers like attraction of the \\ndestination, transportation industry (air, water and surface), hospitality industry (hotels, \\nrestaurant etc.), tour operators, travel agents, banking, insurance, shopping and \\nentertainment. In the case of secondary suppliers, it involves the suppliers of primary \\nsuppliers. e.g. a hotel required supply of  vegetables, fruit and other items in order to provides \\nits services further, therefore fruits and vegetable suppliers are the secondary suppliers of the \\ntourism industry as suppliers to primary suppliers”  (Nayomi & Gnanapala, 2015) . According \\nto Nzama (2008), there is a strong positive relationship between the extent of the involvement \\nof community in tourism development and their perceptions towards the impacts of tourism \\ndevelopment. With accordance to the above literatures, a mid them local community is one of \\nthe key stakeholder in the tourism industry. In that manner, their perception is essential for \\ncontribute to sustain the remunerative tourism industry in a certain place.  \\n \\n3. Methods  \\n3.1. Research s ite \\nKanneliya  Forest Reserve located in the Galle district. This is a part of the Kanneliya -\\nDediyagala -Nakiyadeniya forest complex, or KDN. Kanneliya also it is reckon as one of the \\nmost biologically diverse areas in the country and also it has rich biodiversity with c ompare to \\nthe world heritage rain forest “Sinharaja”. KDN complex spread over 10136 hectares \\n(Kanneliya -5306 he) and this  area has been identified as one of the floristically richest areas \\nin South Asia and also this place harbors many plants and animal species endemic to Sri Lanka. \\nHence, KDN complex designate as biosphere reserve in 2004 by UNESCO.  \\n3.2. Research a pproach  \\nTo conduct this research, the researcher use qualitative methodology and inductive research \\napproach to investigate the local communi ty perception about ecotourism practices in 295 \\n Kanneliya rainforest. According to Pope and Mays Qualitative methodology is “Development \\nof concept which help us to understand (rather than experimental) setting, giving due emphasis \\nto the meanings, experience and views of the participants.” (Pope & Mays, 1995)  . Because they \\nare highly subjective in nature within an interpretative paradigm. Thus in the qualitative \\nresearches Interviews deliver a valuable tactics for researchers to i nvestigate about the some \\ndoubtful cases, phenomena and many more thighs, by giving real understanding may \\nsometimes be complicated. At the same time if anyone done a genuine interviews through care, \\na well -organize, that interview approach can deliver a g lorious set of data and findings. Except \\nthose methods secondary data are also use such as publications done by local and international \\nresearchers regarding ecotourism, ecotourism perception and the related topics.  \\nPopulation and Sample of the Study . \\n \\nThe target population of this study is community who live in the peripheral villages by \\ndepend on the Kanneliya rainforest.  For selection of the sample from the local community who \\ndepend in Kanneliya rain forest area purposive sampling method is use. In t his Kanneliya \\nrainforest the community has engage with several ecotourism related activities. Such as tour \\nguides, hotel/resort/ guest house keepers, lunch pack/ take away food sellers, hotel/resort/ \\nguest house workers, forest officers, apart from those a ctivities other informal tourism \\nworkers/small scale operators as example small -scale businessmen who are running a corner \\nshop, artists, mural painters, wood carvers and gardeners. Through all of this participants \\ninformation are gather by above mention w ay of methods of data collection.  \\n \\n3.3. Method of data collection, presentation and analysis   \\nAs the method of primary data collection, researcher use interviews as data collection method. \\nAccording to Kvale  in 1996 “the qualitative research interviews seeks to describe the meaning \\nof central theme in the interviewees say. (Sayrs, 1998) ” Accordance with him its success depend \\non the respondent’s states and the way of interweaver u nderstand that. Moreover interviews \\nact as better instrument for understand and study about real picture of the relevant topic. \\n“Interviews are particularly useful for getting the story behind a participant’s experience. The \\ninterviewer can pursue in -depth  information around the topic. Interviews may be useful as \\nfollow -up to certain respondents to questionnaires, e.g... to further investigate their response”. \\n(McNamara, 2002)  As earlier mentioned researcher use in -depth intervi ews as data collection \\nmethod and semi structured questionnaires are used for that. According to the “The goal of \\nqualitative descriptive studies is a comprehensive summarization, in everyday terms, of \\nspecific events experienced by individuals or groups o f individuals.”  (Lambert & Lambert , \\n2012)  To proffer data that has been gathered the researcher use descriptive analysis method. \\nAs the research study done through the qualitative approach, almost all the collected \\ninformation in descriptive manner. So, to adjust with the information researcher decided to \\nuse descriptive method foe data analysis. “Qualitative descriptive research is purely data -\\nderived in that codes are generated from the data in the course of the study. Like ot her \\nqualitative research approaches, qualitative descriptive studies generally are characterized by \\nsimultaneous data collection and analysis.”  (Lambert & Lambert , 2012)  \\n \\n4. Data analysis and discussion  \\n4.1. Perception of local community on ecotourism in Kanneliya rainforest \\narea  \\n4.1.1. Idea about ecotourism in Kanneliya area  \\nWhen considering community idea about ecotourism in the Kanneliya  area, according to many \\nrespondents, many of the people in the village earn their living from this tourism industry. In 296 \\n the past, the area’s main source of livelihood was tea or agriculture. So, now tourism \\ndevelopment is used as an alternative for tradit ional livelihood. But now they earn more income \\nthan tea cultivation, by engaging tourism -related employments.  In addition, the tourism \\nindustry has created self -employment opportunities for many women in the village, which has \\nhelped to boost their income  streams. They have taken advantage of these opportunities by \\nparticipating in training programs provided by the government. Especially with a number of \\ngovernment -initiated projects, such as SCAMP and GFE projects.  The tourism industry in \\nparticular has a lso generated many types of income for women. Specially, by doing ecotourism \\nConservation is one of the key benefit can gain in certain area. Ecotourism allows protect \\nnatural habitats and pristine environment. Ecotourism permits nations and communities to  \\nconstruct their economies without harming the environment, this means that local flour and \\nfauna can thrive and visitors can untouched destinations.  The people of the area are paying \\nmore consideration to environmental conservation as they can earn more income from the \\ntourism industry as compared to the previous traditional sources of income. According to most \\nof the respondents, it enhances the knowledge and environmental awareness of the tourists \\ncoming through the tourism industry. They are of the opi nion that this is going very well in the \\nKanneliya rainforest area, especially through the guides involved in the ecotourism industry. \\nIn addition to that ecotourism, as alternative tourism, includes traveling natural regions with \\nthe intention to study or  to get Knowledge, to study, or to carry out activities environmentally \\nfriendly, that is, tourism based on the nature experience, which enables the economic and \\nsocial development of local communities.  \\n \\n4.1.2. Government contribution to tourism and conser vation  \\nFocusing on Kanneliya In the past, the Kanneliya area was appreciated as a conservation center \\nrather than a tourist destination. With the subsequent wave of tourism, the area developed into \\na tourist attraction. For this reason, it is important to focus on conservation and tourism \\nthrough government support. But sixteen out of eighteen respondents said the governm ent\\'s \\ncontribution was minimal. As  mentioned most of the respondents commented negatively on \\nthe government. Thus, at different times, due to the appointment of different governments, \\nopinions on such tourist destinations differ from one another. Therefore, an attentiveness is \\ngiven to thi s type of area also varies from one government to another. As a result, the spending \\npatterns of each government change. Especially money allocation is different from one to one. \\nAlmost every government pays more attention to institutions that can generate  revenue for the \\ngovernment. There is little attention paid to such conservation centers like Kanneliya \\nRainforest. Although Kanneliya is a very attractive tourist destination with a large number of \\ntourists, the revenue generated by the place is relativel y low. This is because the ticket price \\ncharged by tourists is very small. As a result, they have not been able to earn enough money for \\nthe day -to-day maintenance of the center.  Moreover, due to the minimal ticket price, a large \\nnumber of tourists enter the forest without any control. Some time that is exceeds the carrying \\ncapacity of the forest as well.  As a conservation center, officials expect more tourists to see and \\nstudy the ecosystem than to come for leisure and just have fun.  According to most of  the tour \\nguides they gave their maximum effort to improve visitors’ knowledge about the nature.  \\nHowever, all of the tour guides believe that they will not receive any support from the \\ngovernment. According to them, there was no contribution from the gove rnment other than \\nthe supply of uniforms and the training they and the tour guides in the Sinharaja forest on two \\noccasions. Even their daily wage was increased from 400 rupees to 600 rupees only after they \\nmade several requests.  297 \\n 4.2. Local community contr ibution to tourism and conservation  \\nAlthough a large number of people visit the Kanneliya area, its facilities as a tourist destination \\nare never adequate. When a large number of people come in one day, their need is not enough \\nfor the food and parking fac ility they need. For example, in the past one day, between 3,000 \\nand 4,000 school children visited the Kanneliya Center, and in such a case, the restaurant in \\nthe center was not adequate at all. This is because it can only feed a maximum of 150 people at \\na time. Also, there is no large parking space at the center. In such cases, the tour guides who \\nwork at the center use their connections with the villagers to provide them with the food and \\nparking they need. The current situation in the country in particul ar has led to a sharp decline \\nin tourist arrivals. As a result, people who live in the tourism industry on a daily basis are \\ninconvenienced. Also, the ongoing development activities have been hampered due to the \\ntourism industry. In the future, they hope t hat the status quo will be restored soon and tourist \\narrivals will increase in the near future. Apart from the tour guides, hoteliers, and or homestays \\nwho generate revenue directly through the Kanneliya Tourist Center, people from Udugama \\ntown to Panangal a, Thawalama, and Hiniduma areas also earn an income from the Kanneliya \\ntourism industry. The Kanneliya tourist area indirectly enriches the livelihoods of the people, \\nespecially those who make certain snacks, bite makers and confectionery, dairy products,  and \\nkithul related products as well as ornaments such as cane products. But sometimes people in \\nthe surrounding areas see Kanneliya as a source of income only for tourist guides and hotel \\nowners. Many women in the village have been a source of strength to  the family economy, \\nespecially due to the Kanneliya tourist center in the village. In particular, the Ruhuna Tourism \\nBureau and the government have created self -employment opportunities for joint ventures. \\nThese projects have provided self -employment oppo rtunities to large unemployed housewives. \\nThe Eleventh Respondent is the best example of those who focused on food production through \\nthat expansion. There she gained a good knowledge of making jam cordials and other food \\nproducts by disposing of village w aste through training programs conducted by the government \\nand is currently engaged in this industry. The three forest officials who were interviewed by the \\nresearcher gave a negative response to the contribution of the villagers. According to them, \\nmost p eople do not contribute to the conservation of the environment. That is less than ten \\npercent. People living close to the forest border are increasing the size of their lands by cutting \\ndown trees and removing boundary stones. Wildlife is also affected by its activities. Some \\npeople kill wild animals and cut down plants such as Agar wood and venereal. Tea and palm \\noil plantations, in particular, thrive in the Kanneliya forest area, so lands in the Kanneliya forest \\nhave been forcibly taken over by them.  \\n \\n4.3. Satisfaction about their own contribution to the  tourism industry in \\nKanneliya r ainforest  \\nMost of the respondents had a positive attitude towards their contribution. Here, many of the \\nrural community associated with the Kanneliya  tourism industry are tour guides. Accordingly, \\nmany guides stated that they are satisfied with the environmental knowledge and \\nunderstanding they provide to tourists. But some senior tour guides say they can personally do \\nmore to increase the knowledge of  their newly hired young tour guides. Also, according to the \\nofficials of the Kanneliya Tourism Center, although they have taken steps to work towards the \\nconservation of the forest and the development of the tourism sector, the top management does \\nnot con sider their ideas and suggestions. Many village women are involved in self -employment \\ntraining programs launched by the government. According to them, they provide unique \\nhealthy food to tourists. Also, some tourist guides said that they used their identit ies to help \\nthem find the food and accommodation they needed when there was not enough space at the \\nKanneliya Tourist Center.  298 \\n 4.4. Possible solutions to resolve the challenges and to maximize the \\nexisting opportunities of ecotourism developme nt in Kanneliy a \\nrainforest area  \\nLocal community is one of the key stakeholder in the tourism industry. In that manner, their \\nperception is essential for contribute to sustain the remunerative tourism industry in a certain \\nplace. Within the tourism development, enough go als, and competence amongst the local \\npeople are important. And also it has to fit each other, if not planning perhaps destroy the \\nindustry possibilities. “Local communities play an important role in tourism development. \\nThey are regarded as legitimate and  moral stakeholders in tourism development. Local \\ncommunity has to be involved in policy and decision making so that it will enhance the trust \\nand confidence of the local people on the tourism industry. In order to improve plans and \\nservice delivery, local  community involvement in decision making is very essential and it also \\npromotes a sense of community involvement who share common goals” (Muganda, Sirima, & \\nPeter , 2013) . Consequently, while locals engaging in with an actual understanding of the \\ntourism it allows conserving the nature as well as the culture, traditions and their values as \\nproperly.  Accordingly, there is direct connection between the residents’ attitude a nd their \\nbehavioral intention. Thus, on behalf of his research local community had a positive attitude \\nand sufficient perception towards in tourism all the time. Withal, positive attitudes are case to \\nencourage the community development, improvement of agr iculture market, income \\ngeneration and also it is grate help for the development of the tourism sector.  (Lepp, 2007) . In \\nfact, the Kanneliya forest is surrounded by many villages. As such, it is constantly under the \\neffect of h uman activities. Therefore, in the past few decades, Kanneliya and the remaining \\nparts of the adjoined forests are extremely affected by human activities.  Further to those \\nactivities, there are destructively have an effect on biodiversity, and each day th e individuals \\nwho around the Kanneliya have been clearing the forest and capturing the forest area for their \\nactivities. So as mentioned above, most of the locals are depending on the forest from the forest \\nfor generations. And their livelihoods tied to th e forest. Because of that, it is sometimes harmful \\nfor the forest as well. However, with the invention of the tourism industry, step by step \\ncommunity use freed from the traditional livelihoods that were bring damage to the forest and \\nbecome involved in th e tourism industry. But still, there are some people who try to do harm \\nbecause of the anticipation of money. However, according to the third objective of the research, \\nthe respondents were asked about possible solutions to prevent damage to the tourism se ctor \\nand the forest in general. Regarding the field of tourism, many of them said that knowledge \\nand understanding of the forest should be increased. There, it was mentioned that attention \\nshould be paid to the flora and fauna endemic to Kanneliya. Many al so said that the \\nenvironmental knowledge of the villagers, tourists, and guides should be further enhanced. In \\nfact, the facilities at the Kanneliya Conservation Center are minimal compared to the number \\nof visitors. In addition, the amount of facilities p rovided is very limited. If these facilities are \\nrehabilitated, the center will be able to earn more revenue and attract more tourists.  Especially \\nwhen a large number of tourists arrive in one day. In particular, access to sanitary facilities and \\nfood is m inimal. Road and accommodation facilities should also be further developed. \\nAlthough affordable accommodation is available at the Kanneliya Center, it is adequate for a \\nsmall number. There is a number of homestays and hotels, but due to their high price an d high \\ncost of food and drink, tourists are sometimes inconvenienced. In addition, with the \\ncontribution of many villagers, Kanneliya can be developed as a more successful tourist \\ndestination than the current tourism industry. Also, limited knowledge of tr avel guidance and \\nlanguage communication skills should be developed. This is due to the fact that the level of \\ncommunication skills and knowledge of some of the people who have recently joined as tour \\nguides is very low. They were recruited due to the larg e number of tourists arriving, not because 299 \\n if their knowledge and skill. Furthermore, there is a need to further educate the public about \\nthe importance and uniqueness of Kanneliya. Internet and social media can be easily used for \\nthose promotions. This is  because many foreign tourists visiting Kanneliya have been misled \\nby external guides, Kanneliya as Sinharaja. Also, there is very little understanding among local \\ntourists about the biodiversity value of Kanneliya.  \\n5. Discussion  \\nEcotourism is outlined as a t ool for education and aware communities to conserve and protect \\nthe environment through visiting in natural areas while giving benefits to travelers and at the \\nsame time to the local community. “Responsible travel to natural areas that conserve the \\nenviron ment, sustain the wellbeing of the local people and involves the interpretation and \\neducation”. (TIES, 2015). Therefore, Ecotourism can offer local people with monetary \\nassistance via providing employment opportunities as tour guides, park rangers, and ser vice \\nworkers in hotels, restaurants, and lodges. With eco -tourism, income is earned from preserving \\nthe environment, and forest clearing is discouraged due to the fact it is detrimental to income.  \\nAlso, “ecotourism can reduce the need for poaching and hunt ing of forest animals for income.”  \\n(Butler, 2012) . Hence, by developing eco -tourism practices it affords lots of effective benefits \\nfor the environment, community, and travelers. Through promoting ecotourism in a specific \\narea it makes an opportunity to earn revenue to the country or relevant area. By par allel to \\nother countries as a tropical island, Sri Lanka has unequaled natural beauty with the finest \\nhospitable tradition that can attract more and more visitors to the country. “Sri Lanka is listed \\nas one of the world’s 25 biodiversity hotspots possessin g a natural advantage that can be \\nutilized for the development of forest -based ecotourism  (Wickramasinghe, 2014) ”. Among \\nthose valuable natural and cultural inheritance, Kanneliya Rainforest is a paradise for \\nthousands of Flora s and faunas which endemic and engaged. Therefore, it is not impossible to \\ndevelop the eco -tourism industry in the Kanneliya rainforest.   \\n \\nHere, after analyzing the interviewed facts, the researcher became capable to obtain the \\nobjectives of the study. According to the first objective, the researcher identified the local \\ncommunity perception about ecotourism practices in the Kanneliya Rainfor est area. Generally \\necotourism is define as,  ‘Environmentally responsible travel and visitation to relatively \\nundisturbed natural areas, in order to enjoy and appreciate nature, that promotes \\nconservation, has low visitor impact and provides the beneficial ly active socio -economic \\ninvolvement of local populations’. (Ceblllos -Lascutain, 1993) .  \\n \\nAfter analyzing the conducted interview with the residents of Kanneliya, the researcher \\nrealized that they are well aware of the contribut ion of the eco -tourism industry to the \\nconservation of the environment, the income, and other benefits to the community.  Due to \\nthese reasons, the people of Kanneliya are very interested in the development of the ecotourism \\nindustry and the number of touri sts. According to their opinion, they have received many \\nbenefits after starting the ecotourism in the Kanneliya area.  Increasing the environmental \\nawareness of tourists through tour guides, many infrastructure developments, job \\nopportunities, deforestatio n, and cessation of poaching took place after the launch of the \\ntourism industry.  In addition, self -employment opportunities were created for unemployed \\nwomen in the Kanneliya area. The researcher has found that they have a good understanding \\nof the ecotou rism industry when considering all the facts. That means they have a positive \\nperception about the ecotourism practices in the Kanneliya rainforest area.  \\n \\nAccording to the second objective, the researcher investigated the expectations of the \\nlocal communit y on ecotourism in Kanneliya rainforest area. The researcher explored whether 300 \\n they were satisfied with the contribution of the government, the contribution of other residents \\nof the village, and their contribution as individuals. It was realized that the v illagers\\' view of \\nthe government\\'s contribution as a whole was that the government\\'s contribution is minimal. \\nThe government\\'s contribution to the conservation and development of the tourism industry is \\nminimal. However, the Ruhuna Tourism Bureau and the g overnment also provide self -\\nemployment opportunities  and guidance through projects.  \\n \\nMoreover, when investigating the satisfaction of their contribution to the tourism \\nindustry in the Kanneliya rainforest, One -third of those who commented had a positive at titude \\ntowards their contributions. This is because many of the respondents are tour guides and they \\nare very satisfied with the environmental knowledge and understanding they impart to the \\ntourists. According to them, they make a great contribution to pop ularize the Kanneliya Tourist \\nCenter and to satisfy its visitors. Also, food producers are very satisfied with the food they \\nproduce and the food they make without adding any chemicals.  \\n \\nAs the third objective of the research, the researcher investigate d the possible solutions \\nto resolve the challenges and to maximize the opportunities of ecotourism development in the \\nKanneliya rainforest area. In fact, the Kanneliya forest is surrounded by many villages. As such, \\nit is constantly under the influence of h uman activities. Accordingly, in the past few decades, \\nKanneliya and the rest of the adjoined forests are extremely affected by human activities.  In \\naddition to these activities, there are destructively affect to the biodiversity, and day by day the \\npeopl e who around the Kanneliya were clearing the forest and capturing the forest area for \\ntheir activities. “One of the major trends observed in the Kanneliya rain forest of Sri Lanka is \\nrapid degradation caused by over utilization of forest resources, which h as been aggravated by \\nthe rapid population growth. This situation is common to many of the rain forests in Sri Lanka.”  \\n(Kumara, 2013) . \\n \\nAs described above, many people depend on the Kanneliya forest. It has been practiced \\nby them  for many years and for many generations. According to the researcher\\'s interviews, \\nthe understanding of the forest needs to be further improved as a solution. Also, more attention \\nshould be paid to the endemic and endangered species of animals and plants in Kanneliya. \\n“There are 78 villages surrounding the KDN forests. More than 50 % of the households in most \\nof the villages receive food stamps as they are below the government recognized poverty line. \\nThe rural economy of villages around the KDN complex is  based primarily on tea and paddy \\nsmallholdings. The homesteads are cultivated with crop mixtures. The villagers living around \\nthe forest are at least partially dependent on the forest for both timber and Non Timber Forest \\nProducts (NTFP). The use of NTFP appears to be more for substance and tradition than \\ncommercial purposes. Medicinal plants, fuel wood, poles and posts are the most frequently \\nused forest products by the villagers.” (Bandaratillake, 2003) . \\n \\n6. Conclusion  \\nIn the present world ecotourism concept has proven fast growth. As a tropical country in Sri \\nLanka, ecotourism emerges as a massive trend amongst travelers. Hence with the rich \\nbiodiversity, we have received tremendous possible to develop ecotourism to imp rove the \\ncommunity’s living conditions. At the moment Kanneliya rainforest area also well -known for \\necotourism. There are a significant number of tourists visit the Kanneliya area to experience \\nthis extraordinary natural inheritance.  The researcher first e xplored the community perception \\nof the ecotourism industry in the Kanneliya rainforest area. Although the villagers do not have \\nas much as an understanding of the tourism industry as the level of knowledge of the scholars, 301 \\n they have gained an understandin g from their own experience. They have a thorough \\nunderstanding about the benefits of Tourism. In particular, they are well aware of the many \\nbenefits of conservation contributions, such as job creation and the contribution of tourism to \\ndevelopment.  \\n \\nAs the second objective, the researcher supposed to inspect the expectations of the local \\ncommunity on ecotourism in Kanneliya rainforest area. To obtain that goal, the Researcher \\nexplored whether they were satisfied with the contribution of the government, th e contribution \\nof other community of the village, and their contribution as individuals. The villagers are not \\nsatisfied with the contribution of the government and expect more from the government. Apart \\nfrom the conservation officers, other respondents we re satisfy with the contribution of the local \\ncommunity that not directly depend on the Kanneliya tourism. In addition, as individuals, they \\nare satisfied with their contribution to the tourism industry and its development.  \\nThe researcher\\'s third objective was to explore the potential factors and potential for \\nfurther development of the Kanneliya tourism industry. The researcher realized that the lack \\nof facilities in the tourist center had caused many problems. As a result, both tourists and \\nofficials are inconvenienced. Also, the affection and attention of the tourists and the \\ngovernment to the environment should be developed than today. In addition to that, there \\nshould be a better system to increase the awareness of foreig n and local tourists about the \\nKanneliya Rainforest. Also, the communication ability and knowledge of the guides should be \\nat a higher level than today. If all these factors are taken into account, the tourism industry in \\nthe Kanneliya will be able to achi eve a successful level than today.  \\nReferences  \\nBandaratillake, H. M. (2003). Community participation in the management of the Kanneliya -\\nDediyagala -Nakiyadeniya proposed Biosphere Resever. Journal of the National \\nScience Foundation of Sri Lanka . \\nButler, R. (2012 ). Mangbay. Retrieved from http://rainforest.mongbay.com/1004.htm  \\nCeblllos -Lascutain, H. (1993). Ecotourism as a worldwide phenomenon.  \\nDaily FT . (2011, December 24). Retrieved from Google: \\nhttp:www.ft.lk/artical/62372/Kanneliya -forest -reserve -in-danger -says -\\nenvironmentalists . \\nDeshani, J., Kumara, K., Wijesihghe, D., Wijesundara, W., Kumuduni, M., Paragalathan, M., \\nUsama, M. (2015). Customer satisfaction on eco -tourism practices in Sri Lanka.  \\nDrumm, A., & Moore, A. (2002).  An introduction to ecotourism planing.  \\nEmerton, L. (1999). Community -based incentive for nature Conservation . 250.  \\nKumara, H. (2013). Effectiveness of ecotourism as a community forest management (CFM) \\napproach for the Kanne liya rain forest in Sri Lanka. \"Visvaya\", Journal of the Soci ety \\nof Geographic and Environmental Science.  \\nLambert, V. A., & Lambert, C. E. (2012). Qualitative Discriptive Research. An acceptable \\ndesign.  \\nLepp , A. (2007). Residents\\' Attitude towards tourism in Bigodi Village,Uganda. Tourism \\nMangement -Tourism Manage , 876 -885.  \\nManeshka, B. (2019, December 08). Retrieved from The Sunday observer: \\nhttp://www.sundayobsever.lk/2018/02/11/features/kanneliya -forest -reserves -\\nheeavy -logging  \\nMcNamara, C. (2002, August 04). General guidelines for conducting interviews. Retrieved \\nfrom http://www.managementhelp.org/evalutn/interview.htm.  302 \\n Muganda, M., Sirima, A., & Peter, M. (2013). The role of local communities in tourism \\ndevelopment: Grassroots perspectives from Tanzania. Human Ecology . \\nMuhammad, F. A., Muhammad, A. A., & Azimah, A. R. (2021). Community involvement in \\necotourism  and implications on social in Langkawi Island, M alaysia. EPRA \\nInternational Journal of Multidiscip linary Research.  \\nNagarjuna, G. (2015). Local community involvement in tourism: A content analysis of websites \\nof wildlife resorts. Anta Journal of Tourism Studies , 16. \\nNayomi, G., & Gnanapala, A. (2015). Socio -economic impacts on local community through \\ntourism development with special reference to Heritance Kandalama. Tourism, \\nLeisure and Global Change . Retrieved from www.wttc.org  \\nNzama, T. (2008). Socio -cultural impacts of tourism on the rural areas withinthe world \\nheritage sites: The case of KwaZuluNatal , South Africa.  South Asian Journal of \\nTourism and Heritage.  \\nPope, c., & Mays, N. (1995, July 01). Reaching the parts other methods cannot reach: An \\nintroduction to quantitative methods in health and health services reseaech , 43.  \\nRashid, R., Chiciudean, G.  O., Sirwan, K., Arion, F., & Muresan, I. (2018). Attitudes and \\nperceptions of the local community towards sustainable tourism development in \\nKurdistan Regional government, Iraq. Susrainability, 2.  \\nRobbins, S. p., & Coulter, M. K. (2005). Management . Pears on Prentic Hall,2005.  \\nRoss, T., & Wall, G. (1999). Ecotourism:towards congruence between theory and practical. \\nTourism Management . \\nSalum, L. (2009). Ecotourism and biodiversity consrvation in Jozani -Chwanka Bay national \\npark, Zanzibar. African Journal of Ecology , 166 -170.  \\nSayrs, L. (1998). Interviews: An introduction to qualitative research interview. The American \\nJournal of Evaluation , 267 -270.  \\nScherl, L. M., & Edwaerds, S. (2007). Tourism, indigenous and local communities and \\nprotectes  areas in developing nations: Tourism and Protects Areas. Benefits Beyond \\nBoundaries , 71-88,2007, 71.  \\nWall, G. (1997). Is ecotourism sustainable? Environmental Management , 19. \\nWallace, G. N., & Pierce, S. M. (1996). An evaluation of ecotourism in Amazon, B azial. Annals \\nof Tourism Research , 843 -873.  \\nWearing , S., & Neil, J. (1999). Ecotourism: Impacts, potentials and Possibilities . 576 -578.  \\nWickramasinghe, K. (2014, February 06). Retrieved from Thincking Economics: \\nhttp://www.ips.lk/thinkingeconomics/2014/02 /06/forest -attraction -can-sei-lanka -\\nuse-ecotiurism -for-sustainble -forest -management/  \\nYacob, M. R. (2014). Ecotourism: Impacts, potentials and Possibilities. International Business \\nResearch,  576-578.  \\n \\n \\n \\nView publication stats'"
            ],
            "application/vnd.google.colaboratory.intrinsic+json": {
              "type": "string"
            }
          },
          "metadata": {},
          "execution_count": 46
        }
      ]
    },
    {
      "cell_type": "code",
      "source": [
        "raw_text[:100]"
      ],
      "metadata": {
        "colab": {
          "base_uri": "https://localhost:8080/",
          "height": 35
        },
        "id": "EDeY8jeLkhCC",
        "outputId": "fda60925-522b-4651-83cb-e941836ee16a"
      },
      "execution_count": null,
      "outputs": [
        {
          "output_type": "execute_result",
          "data": {
            "text/plain": [
              "'See discussions, st ats, and author pr ofiles f or this public ation at : https://www .researchgate.'"
            ],
            "application/vnd.google.colaboratory.intrinsic+json": {
              "type": "string"
            }
          },
          "metadata": {},
          "execution_count": 47
        }
      ]
    },
    {
      "cell_type": "code",
      "source": [
        "#Then need to split the text that we read into smaller chunks and we cannot hit the token size limits and use as chunk size has 1000 characters. We use the overlapping\n",
        "#because first sentence we wii have the thousand characters and the second sentence start from the 800 chracters\n",
        "text_splitter = CharacterTextSplitter(\n",
        "    separator = \"\\n\",\n",
        "    chunk_size = 1000,\n",
        "    chunk_overlap = 200,\n",
        "    length_function = len,\n",
        ")\n",
        "texts = text_splitter.split_text(raw_text)"
      ],
      "metadata": {
        "id": "89weLoXuk1QD"
      },
      "execution_count": null,
      "outputs": []
    },
    {
      "cell_type": "code",
      "source": [
        "len(texts)"
      ],
      "metadata": {
        "colab": {
          "base_uri": "https://localhost:8080/"
        },
        "id": "nfmUJ7RZmGFF",
        "outputId": "ecd4b84d-ef50-41fd-cadf-b7c8203a8407"
      },
      "execution_count": null,
      "outputs": [
        {
          "output_type": "execute_result",
          "data": {
            "text/plain": [
              "60"
            ]
          },
          "metadata": {},
          "execution_count": 49
        }
      ]
    },
    {
      "cell_type": "code",
      "source": [
        "texts[0]"
      ],
      "metadata": {
        "colab": {
          "base_uri": "https://localhost:8080/",
          "height": 140
        },
        "id": "brQC2KiNmUyt",
        "outputId": "01bbba47-de67-4bf4-cee2-23330902da2d"
      },
      "execution_count": null,
      "outputs": [
        {
          "output_type": "execute_result",
          "data": {
            "text/plain": [
              "'See discussions, st ats, and author pr ofiles f or this public ation at : https://www .researchgate.ne t/public ation/377415031\\nCommu nity Perception of Ecotou rism in Kanneliya Rainforest Area\\nConf erence Paper  · Januar y 2024\\nCITATION\\n1READS\\n149\\n1 author:\\nPathir age Kasun Udar a Perera\\nUva Wellassa Univ ersity\\n15 PUBLICA TIONS \\xa0\\xa0\\xa04 CITATIONS \\xa0\\xa0\\xa0\\nSEE PROFILE\\nAll c ontent f ollo wing this p age was uplo aded b y Pathir age Kasun Udar a Perera on 16 Januar y 2024.\\nThe user has r equest ed enhanc ement of the do wnlo aded file.291 \\n  \\n* Corresponding author:  udarakasun864@gmail.com  \\n  \\nCommunity Perception of  \\nEcotourism in Kanneliya Rainforest Area  \\n \\nPerera  P. K. U .* \\n \\n*Department of Tourism and Hospitality Management, Rajarata University of Sri \\nLanka  \\n \\n \\n \\nA B S T R A C T  \\n \\nEcotourism is “Responsible travel to natural areas that conserve the environment, \\nsustain the wellbeing of the local people and involves the interpretation and'"
            ],
            "application/vnd.google.colaboratory.intrinsic+json": {
              "type": "string"
            }
          },
          "metadata": {},
          "execution_count": 50
        }
      ]
    },
    {
      "cell_type": "code",
      "source": [
        "texts[1]"
      ],
      "metadata": {
        "colab": {
          "base_uri": "https://localhost:8080/",
          "height": 140
        },
        "id": "gZ1jdezFmrSQ",
        "outputId": "716af943-8ef7-478a-bf2d-22fd129ff2b3"
      },
      "execution_count": null,
      "outputs": [
        {
          "output_type": "execute_result",
          "data": {
            "text/plain": [
              "'Lanka  \\n \\n \\n \\nA B S T R A C T  \\n \\nEcotourism is “Responsible travel to natural areas that conserve the environment, \\nsustain the wellbeing of the local people and involves the interpretation and \\neducation”. It is a well constituted and remunerative concept for numerous regional \\ndevelopment strategies. In Sri Lankan context it is very famous among tourists and \\ntourism business as a result of rich ecosystems throughout the country. Although eco-\\ntourism popular within the context, that have been argued a lot from the perspectives \\nby communities , residents and tourist.   The relationship among perception of eco -\\ntourism, interpretation needs and satisfaction from the perspective of visitors and \\nhosts are remained unclear. Accordingly, the current study aimed at eco -tourism \\nvisitors and host commun ity of the Kanneliya rainforest area to investigative their \\neco-tourism perception, expectation and barriers to the developing ecotourism in the'"
            ],
            "application/vnd.google.colaboratory.intrinsic+json": {
              "type": "string"
            }
          },
          "metadata": {},
          "execution_count": 51
        }
      ]
    },
    {
      "cell_type": "code",
      "source": [
        "#download embeddings from OPENAI(embeddings is simplya set of numbers of a floating numbers,it can be use to measure the distance between two diffent text strings or sentences )\n",
        "embeddings = OpenAIEmbeddings()"
      ],
      "metadata": {
        "id": "vB8u8BTVm-rV"
      },
      "execution_count": null,
      "outputs": []
    },
    {
      "cell_type": "code",
      "source": [
        "#To find the embeddings of our text chunks we are using this vector database .It will take the text chunks and finding the corresponding embeddings and that will be stored here in the docsearch\n",
        "docsearch = FAISS.from_texts(texts,embeddings)\n"
      ],
      "metadata": {
        "id": "wBUJW3RgpIDO"
      },
      "execution_count": null,
      "outputs": []
    },
    {
      "cell_type": "code",
      "source": [
        "docsearch"
      ],
      "metadata": {
        "colab": {
          "base_uri": "https://localhost:8080/"
        },
        "id": "bgj9zX5S7H-A",
        "outputId": "6d2230cf-01fc-4197-b00f-9a49e87db32b"
      },
      "execution_count": null,
      "outputs": [
        {
          "output_type": "execute_result",
          "data": {
            "text/plain": [
              "<langchain_community.vectorstores.faiss.FAISS at 0x7829862ae350>"
            ]
          },
          "metadata": {},
          "execution_count": 59
        }
      ]
    },
    {
      "cell_type": "code",
      "source": [
        "#import question answer chain from lang chain and the corresponding openai object\n",
        "from langchain.chains.question_answering import load_qa_chain\n",
        "from langchain.llms import OpenAI"
      ],
      "metadata": {
        "id": "TRBOoQUvpQAC"
      },
      "execution_count": null,
      "outputs": []
    },
    {
      "cell_type": "code",
      "source": [
        "#Here pass on different models that I need.ex:GPT-3 models and this will create a chain\n",
        "chain = load_qa_chain(OpenAI(),chain_type=\"stuff\")"
      ],
      "metadata": {
        "colab": {
          "base_uri": "https://localhost:8080/"
        },
        "id": "SUhHigLN7ZQ9",
        "outputId": "ad79e3b3-94ab-492e-c52f-ef623e4bd112"
      },
      "execution_count": null,
      "outputs": [
        {
          "output_type": "stream",
          "name": "stderr",
          "text": [
            "/usr/local/lib/python3.10/dist-packages/langchain_core/_api/deprecation.py:139: LangChainDeprecationWarning: The class `OpenAI` was deprecated in LangChain 0.0.10 and will be removed in 0.3.0. An updated version of the class exists in the langchain-openai package and should be used instead. To use it run `pip install -U langchain-openai` and import as `from langchain_openai import OpenAI`.\n",
            "  warn_deprecated(\n"
          ]
        }
      ]
    },
    {
      "cell_type": "code",
      "source": [
        "#Now start asking questions.The given query is finding out which is the closest text in the document semantically and run the chain on it give us a response\n",
        "query = \"what is the forest?\"\n",
        "docs = docsearch.similarity_search(query)\n",
        "chain.run(input_documents=docs,question=query)\n"
      ],
      "metadata": {
        "colab": {
          "base_uri": "https://localhost:8080/",
          "height": 53
        },
        "id": "JFG72s1n7ygf",
        "outputId": "9598b4bc-6698-4914-eee6-76be8a70d208"
      },
      "execution_count": null,
      "outputs": [
        {
          "output_type": "execute_result",
          "data": {
            "text/plain": [
              "' The forest is the Kanneliya forest, which is a rainforest in Sri Lanka that is facing degradation due to overutilization of resources and population growth. It is also home to endemic and endangered species of animals and plants. '"
            ],
            "application/vnd.google.colaboratory.intrinsic+json": {
              "type": "string"
            }
          },
          "metadata": {},
          "execution_count": 63
        }
      ]
    },
    {
      "cell_type": "code",
      "source": [
        "query =\"what is the Reserve located distric of kanneliya forest?\"\n",
        "docs = docsearch.similarity_search(query)\n",
        "chain.run(input_documents=docs,question=query)"
      ],
      "metadata": {
        "colab": {
          "base_uri": "https://localhost:8080/",
          "height": 35
        },
        "id": "xLsZzISF8HrT",
        "outputId": "e731d550-263c-40ff-ee07-d2720bea166e"
      },
      "execution_count": null,
      "outputs": [
        {
          "output_type": "execute_result",
          "data": {
            "text/plain": [
              "' \\n\\nThe Kanneliya Forest Reserve is located in the Galle district of Sri Lanka.'"
            ],
            "application/vnd.google.colaboratory.intrinsic+json": {
              "type": "string"
            }
          },
          "metadata": {},
          "execution_count": 66
        }
      ]
    },
    {
      "cell_type": "code",
      "source": [
        "query =\"tell about method of data collection?\"\n",
        "docs = docsearch.similarity_search(query)\n",
        "chain.run(input_documents=docs,question=query)"
      ],
      "metadata": {
        "colab": {
          "base_uri": "https://localhost:8080/",
          "height": 105
        },
        "id": "jDJKBFgA9f4L",
        "outputId": "2f9d5ab6-d884-47aa-e719-0268368b292c"
      },
      "execution_count": null,
      "outputs": [
        {
          "output_type": "execute_result",
          "data": {
            "text/plain": [
              "\" The primary method of data collection used in this research study is interviews, which are conducted in an in-depth and semi-structured manner. Additionally, secondary data sources such as publications by local and international researchers are also used. The target population for this study is the community living in peripheral villages near the Kanneliya rainforest, and the sample is selected using purposive sampling methods. The use of interviews as a data collection method allows for a better understanding of the topic and the respondent's experiences, while questionnaires are used to further investigate their responses. The data is then analyzed using descriptive analysis methods, which are appropriate for qualitative research studies.\""
            ],
            "application/vnd.google.colaboratory.intrinsic+json": {
              "type": "string"
            }
          },
          "metadata": {},
          "execution_count": 68
        }
      ]
    },
    {
      "cell_type": "code",
      "source": [],
      "metadata": {
        "id": "6EZNi0fj-sUp"
      },
      "execution_count": null,
      "outputs": []
    }
  ]
}